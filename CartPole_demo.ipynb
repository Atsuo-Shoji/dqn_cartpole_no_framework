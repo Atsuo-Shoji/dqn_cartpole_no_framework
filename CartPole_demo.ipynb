{
 "cells": [
  {
   "cell_type": "markdown",
   "metadata": {
    "colab_type": "text",
    "id": "EuivIDMQ5n8V"
   },
   "source": [
    "# numpyだけで構築　Deep Q-NetworkでCartPole"
   ]
  },
  {
   "cell_type": "markdown",
   "metadata": {
    "colab_type": "text",
    "id": "_rn7imET5n8W"
   },
   "source": [
    "### フレームワークを使用せず、numpyだけでDeep Q-Networkを構築しました。CartPole問題を解いています。<br><BR>Multi-step LearningとHuber損失を組み込んでいます。<BR><br>このノートブックでは、実際にモデルを動かしてみることができます。"
   ]
  },
  {
   "cell_type": "markdown",
   "metadata": {
    "colab_type": "text",
    "id": "3g9-o8ZB5n8X"
   },
   "source": [
    "このデモ用ノートブックを動かす場合、以下の物が必要です。<br>\n",
    "- モデル本体（同じフォルダにあるCartPole.py）<br>\n",
    "- 同じフォルダにある「common」フォルダ\n",
    "- 同じフォルダにある「demo_model_params」フォルダ\n",
    "- （必要ならば）OpenAI Gym　のインストール（このノートブックにインストールのコードセルがあり、その実行でもOK）"
   ]
  },
  {
   "cell_type": "markdown",
   "metadata": {},
   "source": [
    "### OpenAI Gym　のインストール　（必要な場合だけ）"
   ]
  },
  {
   "cell_type": "code",
   "execution_count": null,
   "metadata": {},
   "outputs": [],
   "source": [
    "!pip install gym"
   ]
  },
  {
   "cell_type": "markdown",
   "metadata": {
    "colab_type": "text",
    "id": "ceBahSF35n8Y"
   },
   "source": [
    "### 必要なパッケージ等のインポート"
   ]
  },
  {
   "cell_type": "code",
   "execution_count": 1,
   "metadata": {
    "colab": {},
    "colab_type": "code",
    "executionInfo": {
     "elapsed": 1057,
     "status": "ok",
     "timestamp": 1598517172913,
     "user": {
      "displayName": "Atsuo Shoji",
      "photoUrl": "https://lh3.googleusercontent.com/a-/AOh14Gh_jUNM9qFLPoNZHc5s0K2GWtdcvPNCzv49h0T5Eg=s64",
      "userId": "10481992883555145248"
     },
     "user_tz": -540
    },
    "id": "En5lkfNC5n8Z"
   },
   "outputs": [],
   "source": [
    "import matplotlib.pyplot as plt\n",
    "import gym\n",
    "import time\n",
    "import numpy as np"
   ]
  },
  {
   "cell_type": "markdown",
   "metadata": {
    "colab_type": "text",
    "id": "dXVPnn975n8d"
   },
   "source": [
    "### モデル本体のインポート"
   ]
  },
  {
   "cell_type": "code",
   "execution_count": 2,
   "metadata": {
    "colab": {},
    "colab_type": "code",
    "executionInfo": {
     "elapsed": 4334,
     "status": "ok",
     "timestamp": 1598517179682,
     "user": {
      "displayName": "Atsuo Shoji",
      "photoUrl": "https://lh3.googleusercontent.com/a-/AOh14Gh_jUNM9qFLPoNZHc5s0K2GWtdcvPNCzv49h0T5Eg=s64",
      "userId": "10481992883555145248"
     },
     "user_tz": -540
    },
    "id": "BCNi_-e15n8d"
   },
   "outputs": [],
   "source": [
    "#モデルのインポート\n",
    "from CartPole import Planner #モデル本体。同じフォルダのCartPole.py。"
   ]
  },
  {
   "cell_type": "markdown",
   "metadata": {
    "colab_type": "text",
    "id": "IZCMT_AL9hTE"
   },
   "source": [
    "### CartPole環境の活性化"
   ]
  },
  {
   "cell_type": "code",
   "execution_count": 3,
   "metadata": {
    "colab": {},
    "colab_type": "code",
    "executionInfo": {
     "elapsed": 1017,
     "status": "ok",
     "timestamp": 1598517183193,
     "user": {
      "displayName": "Atsuo Shoji",
      "photoUrl": "https://lh3.googleusercontent.com/a-/AOh14Gh_jUNM9qFLPoNZHc5s0K2GWtdcvPNCzv49h0T5Eg=s64",
      "userId": "10481992883555145248"
     },
     "user_tz": -540
    },
    "id": "WCDzNgJ59hTF"
   },
   "outputs": [
    {
     "name": "stdout",
     "output_type": "stream",
     "text": [
      "state_dim: 4\n",
      "action_dim: 2\n"
     ]
    }
   ],
   "source": [
    "env = gym.make(\"CartPole-v0\")\n",
    "state_dim = env.observation_space.shape[0]\n",
    "print(\"state_dim:\", state_dim)\n",
    "action_dim = env.action_space.n\n",
    "print(\"action_dim:\", action_dim)"
   ]
  },
  {
   "cell_type": "markdown",
   "metadata": {},
   "source": [
    "### CartPoleをPlayするメソッドを定義"
   ]
  },
  {
   "cell_type": "markdown",
   "metadata": {},
   "source": [
    "このノートブック上で何度か使うので、ここで定義します。<br>注意！Google ColaboratoryのようなGUI描画ウィンドウが無い実行環境では、このままでは実行できません。実行する方法はWeb上の情報を参照してください。"
   ]
  },
  {
   "cell_type": "code",
   "execution_count": 4,
   "metadata": {},
   "outputs": [],
   "source": [
    "#CartPoleをPlayするメソッド\n",
    "\n",
    "def play_cart_pole(planner):\n",
    "\n",
    "    #動かす\n",
    "    max_steps = 200 #CartPOleの仕様で、そもそも200stepで強制終了される。\n",
    "\n",
    "    curr_st=None\n",
    "    next_st=None\n",
    "    done=False\n",
    "\n",
    "    try:\n",
    "\n",
    "        curr_st = env.reset()\n",
    "        env.render(mode='human')\n",
    "        time.sleep(5)\n",
    "\n",
    "        for st in range(max_steps):\n",
    "\n",
    "            print(\"st:\", st)\n",
    "            \n",
    "            #動きが速くてよく分からない場合があるので、ステップ間でちょっとだけsleep。\n",
    "            time.sleep(0.075)\n",
    "            \n",
    "            #モデルインスタンスが最適な行動を推測\n",
    "            action_predicted = planner.predict_best_action(curr_st) \n",
    "            #その行動を環境に指示\n",
    "            next_st, _, done, _ = env.step(action_predicted)\n",
    "\n",
    "            #レンダリング（注意！Google ColaboratoryのようなGUI描画ウィンドウが無い実行環境では、このままでは実行できません。）\n",
    "            env.render(mode='human')\n",
    "\n",
    "            if done==True:\n",
    "                #エピソード終了\n",
    "                #200ステップに達した（CartPole環境自体が強制終了する）か、倒れてしまったか\n",
    "                print(\"done \" + str(st+1) + \"steps\" )\n",
    "                break\n",
    "\n",
    "            curr_st = next_st\n",
    "\n",
    "    finally:\n",
    "        env.close()"
   ]
  },
  {
   "cell_type": "markdown",
   "metadata": {
    "colab_type": "text",
    "id": "suTN8MF09hTP"
   },
   "source": [
    "### 訓練済モデルにCartPoleをPlayさせる"
   ]
  },
  {
   "cell_type": "markdown",
   "metadata": {
    "colab_type": "text",
    "id": "flZhZV45CnrE"
   },
   "source": [
    "まず最初に、未訓練のモデルインスタンスを生成しPlayさせ、ダメダメ感を認識した後、<br>\n",
    "訓練済パラメーターをこのモデルインスタンスに読み込み、Playさせます。CartPole仕様上の上限200ステップ程度まで粘るはずです。"
   ]
  },
  {
   "cell_type": "code",
   "execution_count": 6,
   "metadata": {
    "colab": {
     "base_uri": "https://localhost:8080/",
     "height": 550
    },
    "colab_type": "code",
    "executionInfo": {
     "elapsed": 10915,
     "status": "ok",
     "timestamp": 1598490787125,
     "user": {
      "displayName": "Atsuo Shoji",
      "photoUrl": "https://lh3.googleusercontent.com/a-/AOh14Gh_jUNM9qFLPoNZHc5s0K2GWtdcvPNCzv49h0T5Eg=s64",
      "userId": "10481992883555145248"
     },
     "user_tz": -540
    },
    "id": "PdRu17kp9hio",
    "outputId": "e0678d88-578e-4780-e2c0-ca04ec07396e"
   },
   "outputs": [
    {
     "name": "stdout",
     "output_type": "stream",
     "text": [
      "未訓練\n",
      "\n",
      "st: 0\n",
      "st: 1\n",
      "st: 2\n",
      "st: 3\n",
      "st: 4\n",
      "st: 5\n",
      "st: 6\n",
      "st: 7\n",
      "st: 8\n",
      "st: 9\n",
      "done 10steps\n",
      "\n",
      "訓練済\n",
      "st: 0\n",
      "st: 1\n",
      "st: 2\n",
      "st: 3\n",
      "st: 4\n",
      "st: 5\n",
      "st: 6\n",
      "st: 7\n",
      "st: 8\n",
      "st: 9\n",
      "st: 10\n",
      "st: 11\n",
      "st: 12\n",
      "st: 13\n",
      "st: 14\n",
      "st: 15\n",
      "st: 16\n",
      "st: 17\n",
      "st: 18\n",
      "st: 19\n",
      "st: 20\n",
      "st: 21\n",
      "st: 22\n",
      "st: 23\n",
      "st: 24\n",
      "st: 25\n",
      "st: 26\n",
      "st: 27\n",
      "st: 28\n",
      "st: 29\n",
      "st: 30\n",
      "st: 31\n",
      "st: 32\n",
      "st: 33\n",
      "st: 34\n",
      "st: 35\n",
      "st: 36\n",
      "st: 37\n",
      "st: 38\n",
      "st: 39\n",
      "st: 40\n",
      "st: 41\n",
      "st: 42\n",
      "st: 43\n",
      "st: 44\n",
      "st: 45\n",
      "st: 46\n",
      "st: 47\n",
      "st: 48\n",
      "st: 49\n",
      "st: 50\n",
      "st: 51\n",
      "st: 52\n",
      "st: 53\n",
      "st: 54\n",
      "st: 55\n",
      "st: 56\n",
      "st: 57\n",
      "st: 58\n",
      "st: 59\n",
      "st: 60\n",
      "st: 61\n",
      "st: 62\n",
      "st: 63\n",
      "st: 64\n",
      "st: 65\n",
      "st: 66\n",
      "st: 67\n",
      "st: 68\n",
      "st: 69\n",
      "st: 70\n",
      "st: 71\n",
      "st: 72\n",
      "st: 73\n",
      "st: 74\n",
      "st: 75\n",
      "st: 76\n",
      "st: 77\n",
      "st: 78\n",
      "st: 79\n",
      "st: 80\n",
      "st: 81\n",
      "st: 82\n",
      "st: 83\n",
      "st: 84\n",
      "st: 85\n",
      "st: 86\n",
      "st: 87\n",
      "st: 88\n",
      "st: 89\n",
      "st: 90\n",
      "st: 91\n",
      "st: 92\n",
      "st: 93\n",
      "st: 94\n",
      "st: 95\n",
      "st: 96\n",
      "st: 97\n",
      "st: 98\n",
      "st: 99\n",
      "st: 100\n",
      "st: 101\n",
      "st: 102\n",
      "st: 103\n",
      "st: 104\n",
      "st: 105\n",
      "st: 106\n",
      "st: 107\n",
      "st: 108\n",
      "st: 109\n",
      "st: 110\n",
      "st: 111\n",
      "st: 112\n",
      "st: 113\n",
      "st: 114\n",
      "st: 115\n",
      "st: 116\n",
      "st: 117\n",
      "st: 118\n",
      "st: 119\n",
      "st: 120\n",
      "st: 121\n",
      "st: 122\n",
      "st: 123\n",
      "st: 124\n",
      "st: 125\n",
      "st: 126\n",
      "st: 127\n",
      "st: 128\n",
      "st: 129\n",
      "st: 130\n",
      "st: 131\n",
      "st: 132\n",
      "st: 133\n",
      "st: 134\n",
      "st: 135\n",
      "st: 136\n",
      "st: 137\n",
      "st: 138\n",
      "st: 139\n",
      "st: 140\n",
      "st: 141\n",
      "st: 142\n",
      "st: 143\n",
      "st: 144\n",
      "st: 145\n",
      "st: 146\n",
      "st: 147\n",
      "st: 148\n",
      "st: 149\n",
      "st: 150\n",
      "st: 151\n",
      "st: 152\n",
      "st: 153\n",
      "st: 154\n",
      "st: 155\n",
      "st: 156\n",
      "st: 157\n",
      "st: 158\n",
      "st: 159\n",
      "st: 160\n",
      "st: 161\n",
      "st: 162\n",
      "st: 163\n",
      "st: 164\n",
      "st: 165\n",
      "st: 166\n",
      "st: 167\n",
      "st: 168\n",
      "st: 169\n",
      "st: 170\n",
      "st: 171\n",
      "st: 172\n",
      "st: 173\n",
      "st: 174\n",
      "st: 175\n",
      "st: 176\n",
      "st: 177\n",
      "st: 178\n",
      "st: 179\n",
      "st: 180\n",
      "st: 181\n",
      "st: 182\n",
      "st: 183\n",
      "st: 184\n",
      "st: 185\n",
      "st: 186\n",
      "st: 187\n",
      "st: 188\n",
      "st: 189\n",
      "st: 190\n",
      "st: 191\n",
      "st: 192\n",
      "st: 193\n",
      "st: 194\n",
      "st: 195\n",
      "st: 196\n",
      "st: 197\n",
      "st: 198\n",
      "st: 199\n",
      "done 200steps\n"
     ]
    }
   ],
   "source": [
    "#訓練済モデルにCartPoleをPlayさせる\n",
    "\n",
    "#まずはモデルのインスタンスを生成\n",
    "p_demo = Planner(name=\"model_demo\", env=env, state_dim=state_dim, action_dim=action_dim, exp_buffer_size=10000) \n",
    "\n",
    "#この状態ではまだ未訓練。\n",
    "#Playさせる。\n",
    "print(\"未訓練\\n\")\n",
    "play_cart_pole(p_demo)\n",
    "\n",
    "#訓練済パラメーターを、このモデルインスタンスに読み込む。\n",
    "file_path_param = \"./demo_model_params/for_demo_params_already_trained.pickle\"\n",
    "p_demo.overwrite_params_in_file(file_path=file_path_param)\n",
    "\n",
    "#このモデルインスタンスは訓練済の状態になった。\n",
    "#Playさせる。\n",
    "print(\"\\n訓練済\")\n",
    "play_cart_pole(p_demo)\n"
   ]
  },
  {
   "cell_type": "markdown",
   "metadata": {
    "colab_type": "text",
    "id": "20Vmdn32WYgx"
   },
   "source": [
    "### モデルを訓練する"
   ]
  },
  {
   "cell_type": "markdown",
   "metadata": {
    "colab_type": "text",
    "id": "v4mHWgU7WYgy"
   },
   "source": [
    "新規にモデルインスタンスを生成し、訓練します。<br>\n",
    "Multi-step Learningを実装していますので、n=2（2ステップ先のQ値を使用）で訓練することにします。<br>\n",
    "GPUは全く不要です。そもそもnumpyだけで実装していますので、GPUは無意味ですが。<BR>\n",
    "※訓練中の訓練過程の出力をしない引数設定にしていますので、このセルの実行では何も表示されません。"
   ]
  },
  {
   "cell_type": "code",
   "execution_count": null,
   "metadata": {},
   "outputs": [],
   "source": [
    "#モデルを訓練\n",
    "\n",
    "#モデルのインスタンスを生成\n",
    "p_train = Planner(name=\"train_demo\", env=env, state_dim=state_dim, action_dim=action_dim, exp_buffer_size=10000) \n",
    "\n",
    "#インスタンスを訓練\n",
    "#下記「steps_multi_step_lern=2」が、Muti-step Learningのn=2指定\n",
    "result = p_train.train(episodes=160, episodes_stop_success=160, episodes_main_params_copy=1, reward_type=0, \n",
    "                 steps_per_episode=200, steps_warm_up=10, steps_success_over=160, steps_multi_step_lern=2, \n",
    "                 gamma=0.99, epsilon_start=1.0, epsilon_end=0.01, epsilon_decay_rate=0.001, batch_size=32, verbose=False) \n",
    "\n",
    "#戻り値resultは、訓練時の様々な記録を保持しているDictionaryオブジェクト"
   ]
  },
  {
   "cell_type": "markdown",
   "metadata": {},
   "source": [
    "### 今の訓練記録をグラフ表示"
   ]
  },
  {
   "cell_type": "markdown",
   "metadata": {},
   "source": [
    "訓練関数train()は、訓練時の様々な記録を保持しているDictionaryオブジェクト「result」を返します。<br>\n",
    "「result」内の記録を抽出すれば、エピソード毎の推移グラフなどを描く、などができます。"
   ]
  },
  {
   "cell_type": "code",
   "execution_count": 24,
   "metadata": {},
   "outputs": [
    {
     "name": "stdout",
     "output_type": "stream",
     "text": [
      "モデルインスタンス「train_demo」の訓練記録\n",
      "\n",
      "Multi-step Learningのn=2を指定\n",
      "\n",
      "エピソード回数：160\n",
      "内、成功エピソード回数：100\n",
      "総ステップ回数：24360\n",
      "\n",
      "<<Main-qnのloss/1エピソード の履歴>>\n"
     ]
    },
    {
     "data": {
      "image/png": "[encoded data removed]",
      "text/plain": [
       "<Figure size 432x288 with 1 Axes>"
      ]
     },
     "metadata": {
      "needs_background": "light"
     },
     "output_type": "display_data"
    },
    {
     "name": "stdout",
     "output_type": "stream",
     "text": [
      "\n",
      "<<ステップ数/1エピソード の履歴（ステップ数が多いほど良い）>>\n",
      "※200ステップ/エピソード がCartPole仕様上の上限\n"
     ]
    },
    {
     "data": {
      "image/png": "[encoded data removed]",
      "text/plain": [
       "<Figure size 432x288 with 1 Axes>"
      ]
     },
     "metadata": {
      "needs_background": "light"
     },
     "output_type": "display_data"
    }
   ],
   "source": [
    "#訓練記録をグラフ表示\n",
    "\n",
    "#訓練関数train()は、訓練時の様々な記録を保持しているDictionaryオブジェクト「result」を返す。\n",
    "#訓練時の様々な記録とは、主に、エピソード毎の記録である。\n",
    "#これらの記録を使用し、種々の情報のグラフを表示する。\n",
    "\n",
    "name = result[\"name\"]\n",
    "print(\"モデルインスタンス「\" + name + \"」の訓練記録\\n\")\n",
    "\n",
    "print(\"Multi-step Learningのn=\" + str(result[\"steps_multi_step_lern\"]) + \"を指定\\n\" )\n",
    "\n",
    "print(\"エピソード回数：\" + str(result[\"episode_count\"]) ) \n",
    "print(\"内、成功エピソード回数：\" + str(result[\"episode_count_success\"]) )\n",
    "print(\"総ステップ回数：\" + str(result[\"total_step_count\"]) ) \n",
    "    \n",
    "step_count_episodes = result[\"step_count_episodes\"]\n",
    "loss_episodes = result[\"loss_episodes\"] \n",
    "episodes = result[\"episodes\"]  \n",
    "episodes_arr = np.arange(0, episodes)\n",
    "\n",
    "    \n",
    "print(\"\\n<<Main-qnのloss/1エピソード の履歴>>\")\n",
    "plt.plot(episodes_arr, loss_episodes, label=\"Loss\")\n",
    "plt.legend()\n",
    "plt.xlabel(\"Episodes\")\n",
    "plt.ylabel(\"Loss\")\n",
    "plt.show()\n",
    "\n",
    "print(\"\\n<<ステップ数/1エピソード の履歴（ステップ数が多いほど良い）>>\\n※200ステップ/エピソード がCartPole仕様上の上限\")\n",
    "plt.plot(episodes_arr, step_count_episodes, label=\"Step Count\")\n",
    "plt.legend()\n",
    "plt.xlabel(\"Episodes\")\n",
    "plt.ylabel(\"Step Count\")\n",
    "plt.show()"
   ]
  },
  {
   "cell_type": "markdown",
   "metadata": {
    "colab_type": "text",
    "id": "maL2_frKCnrP"
   },
   "source": [
    "### 今訓練したモデルでPlayしてみる"
   ]
  },
  {
   "cell_type": "code",
   "execution_count": 21,
   "metadata": {
    "colab": {
     "base_uri": "https://localhost:8080/",
     "height": 532
    },
    "colab_type": "code",
    "executionInfo": {
     "elapsed": 7460,
     "status": "ok",
     "timestamp": 1598517624967,
     "user": {
      "displayName": "Atsuo Shoji",
      "photoUrl": "https://lh3.googleusercontent.com/a-/AOh14Gh_jUNM9qFLPoNZHc5s0K2GWtdcvPNCzv49h0T5Eg=s64",
      "userId": "10481992883555145248"
     },
     "user_tz": -540
    },
    "id": "5j3kDA3tCnrQ",
    "outputId": "b4d7dca3-1f7f-431e-b0d6-0ee14b88df9e"
   },
   "outputs": [
    {
     "name": "stdout",
     "output_type": "stream",
     "text": [
      "\n",
      "今訓練したモデルインスタンス\n",
      "st: 0\n",
      "st: 1\n",
      "st: 2\n",
      "st: 3\n",
      "st: 4\n",
      "st: 5\n",
      "st: 6\n",
      "st: 7\n",
      "st: 8\n",
      "st: 9\n",
      "st: 10\n",
      "st: 11\n",
      "st: 12\n",
      "st: 13\n",
      "st: 14\n",
      "st: 15\n",
      "st: 16\n",
      "st: 17\n",
      "st: 18\n",
      "st: 19\n",
      "st: 20\n",
      "st: 21\n",
      "st: 22\n",
      "st: 23\n",
      "st: 24\n",
      "st: 25\n",
      "st: 26\n",
      "st: 27\n",
      "st: 28\n",
      "st: 29\n",
      "st: 30\n",
      "st: 31\n",
      "st: 32\n",
      "st: 33\n",
      "st: 34\n",
      "st: 35\n",
      "st: 36\n",
      "st: 37\n",
      "st: 38\n",
      "st: 39\n",
      "st: 40\n",
      "st: 41\n",
      "st: 42\n",
      "st: 43\n",
      "st: 44\n",
      "st: 45\n",
      "st: 46\n",
      "st: 47\n",
      "st: 48\n",
      "st: 49\n",
      "st: 50\n",
      "st: 51\n",
      "st: 52\n",
      "st: 53\n",
      "st: 54\n",
      "st: 55\n",
      "st: 56\n",
      "st: 57\n",
      "st: 58\n",
      "st: 59\n",
      "st: 60\n",
      "st: 61\n",
      "st: 62\n",
      "st: 63\n",
      "st: 64\n",
      "st: 65\n",
      "st: 66\n",
      "st: 67\n",
      "st: 68\n",
      "st: 69\n",
      "st: 70\n",
      "st: 71\n",
      "st: 72\n",
      "st: 73\n",
      "st: 74\n",
      "st: 75\n",
      "st: 76\n",
      "st: 77\n",
      "st: 78\n",
      "st: 79\n",
      "st: 80\n",
      "st: 81\n",
      "st: 82\n",
      "st: 83\n",
      "st: 84\n",
      "st: 85\n",
      "st: 86\n",
      "st: 87\n",
      "st: 88\n",
      "st: 89\n",
      "st: 90\n",
      "st: 91\n",
      "st: 92\n",
      "st: 93\n",
      "st: 94\n",
      "st: 95\n",
      "st: 96\n",
      "st: 97\n",
      "st: 98\n",
      "st: 99\n",
      "st: 100\n",
      "st: 101\n",
      "st: 102\n",
      "st: 103\n",
      "st: 104\n",
      "st: 105\n",
      "st: 106\n",
      "st: 107\n",
      "st: 108\n",
      "st: 109\n",
      "st: 110\n",
      "st: 111\n",
      "st: 112\n",
      "st: 113\n",
      "st: 114\n",
      "st: 115\n",
      "st: 116\n",
      "st: 117\n",
      "st: 118\n",
      "st: 119\n",
      "st: 120\n",
      "st: 121\n",
      "st: 122\n",
      "st: 123\n",
      "st: 124\n",
      "st: 125\n",
      "st: 126\n",
      "st: 127\n",
      "st: 128\n",
      "st: 129\n",
      "st: 130\n",
      "st: 131\n",
      "st: 132\n",
      "st: 133\n",
      "st: 134\n",
      "st: 135\n",
      "st: 136\n",
      "st: 137\n",
      "st: 138\n",
      "st: 139\n",
      "st: 140\n",
      "st: 141\n",
      "st: 142\n",
      "st: 143\n",
      "st: 144\n",
      "st: 145\n",
      "st: 146\n",
      "st: 147\n",
      "st: 148\n",
      "st: 149\n",
      "st: 150\n",
      "st: 151\n",
      "st: 152\n",
      "st: 153\n",
      "st: 154\n",
      "st: 155\n",
      "st: 156\n",
      "st: 157\n",
      "st: 158\n",
      "st: 159\n",
      "st: 160\n",
      "st: 161\n",
      "st: 162\n",
      "st: 163\n",
      "st: 164\n",
      "st: 165\n",
      "st: 166\n",
      "st: 167\n",
      "st: 168\n",
      "st: 169\n",
      "st: 170\n",
      "st: 171\n",
      "st: 172\n",
      "st: 173\n",
      "st: 174\n",
      "st: 175\n",
      "st: 176\n",
      "st: 177\n",
      "st: 178\n",
      "st: 179\n",
      "st: 180\n",
      "st: 181\n",
      "st: 182\n",
      "st: 183\n",
      "st: 184\n",
      "st: 185\n",
      "st: 186\n",
      "st: 187\n",
      "st: 188\n",
      "st: 189\n",
      "st: 190\n",
      "st: 191\n",
      "st: 192\n",
      "st: 193\n",
      "st: 194\n",
      "st: 195\n",
      "st: 196\n",
      "st: 197\n",
      "st: 198\n",
      "st: 199\n",
      "done 200steps\n"
     ]
    }
   ],
   "source": [
    "#今訓練したモデルインスタンスでPlay\n",
    "\n",
    "#Playさせる。\n",
    "print(\"\\n今訓練したモデルインスタンス\")\n",
    "play_cart_pole(p_train)"
   ]
  },
  {
   "cell_type": "markdown",
   "metadata": {
    "colab_type": "text",
    "id": "78Vm-3j_Cnr0"
   },
   "source": [
    "### 今訓練したモデルの訓練済パラメーターを保存"
   ]
  },
  {
   "cell_type": "markdown",
   "metadata": {
    "colab_type": "text",
    "id": "OtjtmXhOCnr1"
   },
   "source": [
    "今訓練したモデルインスタンスの訓練済パラメーターを保存します。<br>\n",
    "具体的には、訓練済パラメーターのpickleファイルを生成し、保存をします。<br>\n",
    "この後、別のモデルインスタンスを生成し、保存した訓練済パラメーターのファイルをこのモデルインスタンスに読み込むことができます（冒頭「訓練済モデルにCartPoleをPlayさせる」はこれです）。"
   ]
  },
  {
   "cell_type": "code",
   "execution_count": null,
   "metadata": {
    "colab": {},
    "colab_type": "code",
    "id": "4nb4y2HHCnr3"
   },
   "outputs": [],
   "source": [
    "#訓練済パラメータの保存\n",
    "#訓練済パラメーターを格納するpickleファイルを生成し、保存\n",
    "\n",
    "#このファイルを置く場所を指定する（必須）\n",
    "file_dir=\"./hoge/\" #←適宜変更\n",
    "\n",
    "#このファイルのファイル名を指定する（任意）\n",
    "#指定無き時はモデルインスタンス名がファイル名に使用される（(name).pickle）\n",
    "file_name = \"hoge.pickle\" #←適宜変更するか、引数として指定しない\n",
    "\n",
    "#訓練済パラメーターが格納されたファイルを保存\n",
    "p_train.save_params_in_file(file_dir=file_dir, file_name=file_name)"
   ]
  }
 ],
 "metadata": {
  "accelerator": "GPU",
  "colab": {
   "collapsed_sections": [],
   "name": "DCGAN_FMNIST_Keras_demo.ipynb",
   "provenance": [],
   "toc_visible": true
  },
  "kernelspec": {
   "display_name": "Python 3",
   "language": "python",
   "name": "python3"
  },
  "language_info": {
   "codemirror_mode": {
    "name": "ipython",
    "version": 3
   },
   "file_extension": ".py",
   "mimetype": "text/x-python",
   "name": "python",
   "nbconvert_exporter": "python",
   "pygments_lexer": "ipython3",
   "version": "3.7.1"
  }
 },
 "nbformat": 4,
 "nbformat_minor": 1
}
